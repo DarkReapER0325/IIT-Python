{
 "cells": [
  {
   "cell_type": "markdown",
   "id": "50bc9998-0507-4d2c-ac24-70a114d90f21",
   "metadata": {},
   "source": [
    "# IIT Python Class"
   ]
  },
  {
   "cell_type": "markdown",
   "id": "38be0284-10af-4277-9ca0-8fa60925d010",
   "metadata": {},
   "source": [
    "# Week 01 Homeworks"
   ]
  },
  {
   "cell_type": "markdown",
   "id": "d254ceb6-dd71-4ea5-b4e9-321d16571836",
   "metadata": {},
   "source": [
    "Very first command - print"
   ]
  },
  {
   "cell_type": "code",
   "execution_count": 2,
   "id": "8918cdf8-3819-4f38-8607-52d342389740",
   "metadata": {},
   "outputs": [
    {
     "name": "stdout",
     "output_type": "stream",
     "text": [
      "Hello Sri Lanka\n"
     ]
    }
   ],
   "source": [
    "print(\"Hello Sri Lanka\")"
   ]
  },
  {
   "cell_type": "code",
   "execution_count": 3,
   "id": "8748e372-2d75-40bf-809a-7f5c63e1ee74",
   "metadata": {},
   "outputs": [
    {
     "ename": "NameError",
     "evalue": "name 'Print' is not defined",
     "output_type": "error",
     "traceback": [
      "\u001b[31m---------------------------------------------------------------------------\u001b[39m",
      "\u001b[31mNameError\u001b[39m                                 Traceback (most recent call last)",
      "\u001b[36mCell\u001b[39m\u001b[36m \u001b[39m\u001b[32mIn[3]\u001b[39m\u001b[32m, line 1\u001b[39m\n\u001b[32m----> \u001b[39m\u001b[32m1\u001b[39m \u001b[43mPrint\u001b[49m(\u001b[33m\"\u001b[39m\u001b[33mHello World\u001b[39m\u001b[33m\"\u001b[39m)\n",
      "\u001b[31mNameError\u001b[39m: name 'Print' is not defined"
     ]
    }
   ],
   "source": [
    "Print(\"Hello World\")"
   ]
  },
  {
   "cell_type": "code",
   "execution_count": 5,
   "id": "e7fd34ef-465d-403e-9153-6a0be3c1836b",
   "metadata": {},
   "outputs": [
    {
     "name": "stdout",
     "output_type": "stream",
     "text": [
      "Helloo World\n"
     ]
    }
   ],
   "source": [
    "print('Helloo World')"
   ]
  },
  {
   "cell_type": "code",
   "execution_count": 6,
   "id": "3c0b2b87-1e30-4ab3-b413-d4f750476e61",
   "metadata": {},
   "outputs": [
    {
     "name": "stdout",
     "output_type": "stream",
     "text": [
      "My name is Yasindu Chanul Balapatabendi\n",
      "I study at NSBM Green University\n",
      "I am currently learning Python Programming\n"
     ]
    }
   ],
   "source": [
    "print(\"My name is Yasindu Chanul Balapatabendi\")\n",
    "print(\"I study at NSBM Green University\")\n",
    "print(\"I am currently learning Python Programming\")"
   ]
  },
  {
   "cell_type": "code",
   "execution_count": null,
   "id": "7fd94775-4432-4ed9-88d8-982a38e716a9",
   "metadata": {},
   "outputs": [],
   "source": []
  }
 ],
 "metadata": {
  "kernelspec": {
   "display_name": "Python 3 (ipykernel)",
   "language": "python",
   "name": "python3"
  },
  "language_info": {
   "codemirror_mode": {
    "name": "ipython",
    "version": 3
   },
   "file_extension": ".py",
   "mimetype": "text/x-python",
   "name": "python",
   "nbconvert_exporter": "python",
   "pygments_lexer": "ipython3",
   "version": "3.14.0"
  }
 },
 "nbformat": 4,
 "nbformat_minor": 5
}
